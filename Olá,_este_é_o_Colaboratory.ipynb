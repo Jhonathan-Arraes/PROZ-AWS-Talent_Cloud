{
  "cells": [
    {
      "cell_type": "code",
      "source": [
        "def calculadora(num1, num2, operacao):\n",
        "    match (operacao):\n",
        "        case 1:\n",
        "            print(\"\\nSoma é: \\n\", num1 + num2)\n",
        "        case 2:\n",
        "            print(\"\\nSubtracao é: \\n\", num1 - num2)\n",
        "        case 3:\n",
        "            print(\"\\nMultiplicacao é: \\n\", num1 * num2)\n",
        "        case 4:\n",
        "            print(\"\\nDivisão é: \\n\", num1 / num2)\n",
        "    if operacao > 4:\n",
        "        print(\"escolha outra opção!\")\n",
        "\n",
        "\n",
        "while operacao != 0:\n",
        "  print(\"1 - SOMA\\n2 - SUBTRAÇÃO\\n3 - MULTIPLICAÇÃO\\n4 - DIVISÃO\\n0 - SAIR\")\n",
        "  operacao = int(input(\"Operação: \"))\n",
        "  if operacao == 0:\n",
        "    print(\"\\nVocê saiu, obrigado por calcular!\")\n",
        "  num1 = int(input(\"Primeiro número? \"))\n",
        "  num2 = int(input(\"Segundo número? \"))\n",
        "  print(\"O resultado é : \", calculadora(num1, num2, operacao))\n",
        ""
      ],
      "metadata": {
        "id": "2MvTLkP0ncTq"
      },
      "execution_count": 29,
      "outputs": []
    }
  ],
  "metadata": {
    "colab": {
      "name": "Olá, este é o Colaboratory",
      "toc_visible": true,
      "provenance": []
    },
    "kernelspec": {
      "display_name": "Python 3",
      "name": "python3"
    }
  },
  "nbformat": 4,
  "nbformat_minor": 0
}