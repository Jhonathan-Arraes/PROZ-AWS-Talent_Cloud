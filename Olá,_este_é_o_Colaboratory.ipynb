{
  "cells": [
    {
      "cell_type": "code",
      "source": [
        "Nome = input(\"Qual o seu nome?\")\n",
        "\n",
        "while True:\n",
        "  try:\n",
        "    anoNascimento = int(input(\"Em que ano você nasceu?\"))\n",
        "\n",
        "    if anoNascimento >= 1922 and anoNascimento <= 2022:\n",
        "      idade = 2022 - anoNascimento\n",
        "      print(\"você tem \", idade ,\" anos\")\n",
        "      break\n",
        "\n",
        "  except ValueError as e:\n",
        "    print(e)\n",
        "    print(\"Ano inválido. Digite um ano correto\")\n",
        "\n"
      ],
      "metadata": {
        "id": "G3I9SOy_-w2R",
        "outputId": "6f4af9f6-d193-4c2d-e655-776f648be36f",
        "colab": {
          "base_uri": "https://localhost:8080/"
        }
      },
      "execution_count": 11,
      "outputs": [
        {
          "output_type": "stream",
          "name": "stdout",
          "text": [
            "Qual o seu nome?2023\n",
            "Em que ano você nasceu?2023\n",
            "Em que ano você nasceu?1995\n",
            "você tem  27  anos\n"
          ]
        }
      ]
    }
  ],
  "metadata": {
    "colab": {
      "name": "Olá, este é o Colaboratory",
      "toc_visible": true,
      "provenance": []
    },
    "kernelspec": {
      "display_name": "Python 3",
      "name": "python3"
    }
  },
  "nbformat": 4,
  "nbformat_minor": 0
}