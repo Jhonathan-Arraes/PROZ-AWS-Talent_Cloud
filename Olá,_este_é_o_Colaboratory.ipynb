{
  "cells": [
    {
      "cell_type": "code",
      "source": [
        "nome = ( input(\"Qual é o seu nome? \"))\n",
        "anoNascimento = int (input(\"Em que ano você nasceu? \"))\n",
        "cep = input(\"Qual o CEP? \")\n",
        "rua = input(\"Qual o endereço? \")\n",
        "bairro = input(\"Qual o bairoo? \")\n",
        "cidade = input(\"Qual a cidade? \")\n",
        "\n",
        "if(nome != jonny)\n",
        "  Print(\"Seu nome não é Jonny\")\n",
        "\n",
        "idade = 2023 - anoNascimento"
      ],
      "metadata": {
        "id": "5r1u6z9xIG-w"
      },
      "execution_count": null,
      "outputs": []
    },
    {
      "cell_type": "code",
      "source": [
        "try:\n",
        "  idade = \"10\"\n",
        "  idadeFuturo = idade +25\n",
        "  print(\"Sua idade daqui a 25 anos é: \", idadeFuturo)\n",
        "except:\n",
        "  print(\"Você não pode digitar a idade como texto\")"
      ],
      "metadata": {
        "id": "xUlaS-ClZJIu",
        "outputId": "fbcfc641-07f5-4055-c022-b56ee3fd4d9a",
        "colab": {
          "base_uri": "https://localhost:8080/"
        }
      },
      "execution_count": 1,
      "outputs": [
        {
          "output_type": "stream",
          "name": "stdout",
          "text": [
            "Você não pode digitar a idade como texto\n"
          ]
        }
      ]
    },
    {
      "cell_type": "code",
      "source": [
        "nome = \"Gabriel\"\n",
        "try:\n",
        "  if (nome == \"Gabriel\" and idade > 10):\n",
        "    print(\"O nome é Gabriel\")\n",
        "except:\n",
        "  print(\"Cadastre a variável idade\")"
      ],
      "metadata": {
        "id": "9bKpoHBKaZ3Z",
        "outputId": "98f75e26-7888-4475-cee0-2c0295bbda99",
        "colab": {
          "base_uri": "https://localhost:8080/"
        }
      },
      "execution_count": 2,
      "outputs": [
        {
          "output_type": "stream",
          "name": "stdout",
          "text": [
            "Cadastre a variável idade\n"
          ]
        }
      ]
    }
  ],
  "metadata": {
    "colab": {
      "name": "Olá, este é o Colaboratory",
      "toc_visible": true,
      "provenance": []
    },
    "kernelspec": {
      "display_name": "Python 3",
      "name": "python3"
    }
  },
  "nbformat": 4,
  "nbformat_minor": 0
}